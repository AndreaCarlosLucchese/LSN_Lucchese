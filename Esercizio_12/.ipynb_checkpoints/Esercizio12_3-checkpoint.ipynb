{
 "cells": [
  {
   "cell_type": "markdown",
   "metadata": {},
   "source": [
    "# Esercizio 12.3"
   ]
  },
  {
   "cell_type": "markdown",
   "metadata": {},
   "source": [
    "Riscrivo la seconda rete neurale utilizzata nell'esercizio 12.2"
   ]
  },
  {
   "cell_type": "code",
   "execution_count": 63,
   "metadata": {},
   "outputs": [],
   "source": [
    "import tensorflow as tf\n",
    "from tensorflow import keras\n",
    "import os\n",
    "import numpy as np\n",
    "import matplotlib.pyplot as plt\n",
    "seed=0\n",
    "np.random.seed(seed) # fix random seed\n",
    "tf.random.set_seed(seed)"
   ]
  },
  {
   "cell_type": "code",
   "execution_count": 64,
   "metadata": {},
   "outputs": [],
   "source": [
    "from tensorflow.keras.datasets import mnist\n",
    "# input image dimensions\n",
    "# input image dimensions\n",
    "img_rows, img_cols = 28, 28 # number of pixels \n",
    "# output\n",
    "num_classes = 10 # 10 digits\n",
    "\n",
    "# the data, split between train and test sets\n",
    "(X_train, Y_train), (X_test, Y_test) = mnist.load_data()\n",
    "if keras.backend.image_data_format() == 'channels_first':\n",
    "    X_train = X_train.reshape(X_train.shape[0], 1, img_rows, img_cols)\n",
    "    X_test = X_test.reshape(X_test.shape[0], 1, img_rows, img_cols)\n",
    "    input_shape = (1, img_rows, img_cols)\n",
    "else:\n",
    "    X_train = X_train.reshape(X_train.shape[0], img_rows, img_cols, 1)\n",
    "    X_test = X_test.reshape(X_test.shape[0], img_rows, img_cols, 1)\n",
    "    input_shape = (img_rows, img_cols, 1)\n",
    "\n",
    "X_train=X_train.astype(float)\n",
    "Y_train=Y_train.astype(float)\n",
    "X_test=X_test.astype(float)\n",
    "Y_test=Y_test.astype(float)\n",
    "Y_train = keras.utils.to_categorical(Y_train, num_classes)\n",
    "Y_test = keras.utils.to_categorical(Y_test, num_classes)"
   ]
  },
  {
   "cell_type": "code",
   "execution_count": 65,
   "metadata": {},
   "outputs": [],
   "source": [
    "from keras.layers import Flatten, Conv2D, MaxPooling2D\n",
    "from tensorflow.keras.models import Sequential\n",
    "from keras.layers import Dense, Dropout\n",
    "from tensorflow.keras.optimizers import SGD, Adam, RMSprop, Adagrad, Adadelta, Adam, Adamax, Nadam"
   ]
  },
  {
   "cell_type": "code",
   "execution_count": 66,
   "metadata": {},
   "outputs": [],
   "source": [
    "def create_CNN_2(n_categories):\n",
    "    # instantiate model\n",
    "    model = Sequential()\n",
    "    # add first convolutional layer with 10 filters (dimensionality of output space)\n",
    "    model.add(Conv2D(n_categories, kernel_size=(5, 5),\n",
    "                     activation='relu',\n",
    "                     input_shape=input_shape))\n",
    "    model.add(MaxPooling2D(pool_size=(2, 2)))\n",
    "    model.add(Conv2D(n_categories, kernel_size=(5, 5),\n",
    "                     activation='relu',\n",
    "                     input_shape=input_shape))\n",
    "    model.add(MaxPooling2D(pool_size=(2, 2)))\n",
    "    model.add(Flatten())\n",
    "    model.add(Dense(32, activation='relu'))\n",
    "    model.add(Dense(n_categories, activation='softmax'))\n",
    "    \n",
    "    # compile the model\n",
    "    model.compile(loss=keras.losses.categorical_crossentropy,\n",
    "                  optimizer='Adam',\n",
    "                  metrics=['accuracy'])\n",
    "    return model\n",
    "\n",
    "\n"
   ]
  },
  {
   "cell_type": "code",
   "execution_count": 88,
   "metadata": {},
   "outputs": [
    {
     "name": "stdout",
     "output_type": "stream",
     "text": [
      "Epoch 1/20\n",
      "1875/1875 [==============================] - 20s 10ms/step - loss: 0.6253 - accuracy: 0.8597 - val_loss: 0.1310 - val_accuracy: 0.9613\n",
      "Epoch 2/20\n",
      "1875/1875 [==============================] - 21s 11ms/step - loss: 0.1121 - accuracy: 0.9670 - val_loss: 0.0952 - val_accuracy: 0.9738\n",
      "Epoch 3/20\n",
      "1875/1875 [==============================] - 20s 11ms/step - loss: 0.0851 - accuracy: 0.9741 - val_loss: 0.0777 - val_accuracy: 0.9773\n",
      "Epoch 4/20\n",
      "1875/1875 [==============================] - 20s 10ms/step - loss: 0.0712 - accuracy: 0.9780 - val_loss: 0.0720 - val_accuracy: 0.9785\n",
      "Epoch 5/20\n",
      "1875/1875 [==============================] - 20s 11ms/step - loss: 0.0634 - accuracy: 0.9806 - val_loss: 0.0803 - val_accuracy: 0.9765\n",
      "Epoch 6/20\n",
      "1875/1875 [==============================] - 20s 11ms/step - loss: 0.0544 - accuracy: 0.9835 - val_loss: 0.0574 - val_accuracy: 0.9849\n",
      "Epoch 7/20\n",
      "1875/1875 [==============================] - 21s 11ms/step - loss: 0.0508 - accuracy: 0.9840 - val_loss: 0.0616 - val_accuracy: 0.9831\n",
      "Epoch 8/20\n",
      "1875/1875 [==============================] - 19s 10ms/step - loss: 0.0439 - accuracy: 0.9865 - val_loss: 0.0745 - val_accuracy: 0.9798\n",
      "Epoch 9/20\n",
      "1875/1875 [==============================] - 20s 10ms/step - loss: 0.0420 - accuracy: 0.9871 - val_loss: 0.0996 - val_accuracy: 0.9744\n",
      "Epoch 10/20\n",
      "1875/1875 [==============================] - 20s 10ms/step - loss: 0.0424 - accuracy: 0.9872 - val_loss: 0.0699 - val_accuracy: 0.9829\n",
      "Epoch 11/20\n",
      "1875/1875 [==============================] - 20s 11ms/step - loss: 0.0370 - accuracy: 0.9885 - val_loss: 0.0720 - val_accuracy: 0.9836\n",
      "Epoch 12/20\n",
      "1875/1875 [==============================] - 21s 11ms/step - loss: 0.0366 - accuracy: 0.9889 - val_loss: 0.1017 - val_accuracy: 0.9773\n",
      "Epoch 13/20\n",
      "1875/1875 [==============================] - 21s 11ms/step - loss: 0.0355 - accuracy: 0.9892 - val_loss: 0.0724 - val_accuracy: 0.9835\n",
      "Epoch 14/20\n",
      "1875/1875 [==============================] - 21s 11ms/step - loss: 0.0328 - accuracy: 0.9902 - val_loss: 0.0755 - val_accuracy: 0.9824\n",
      "Epoch 15/20\n",
      "1875/1875 [==============================] - 20s 11ms/step - loss: 0.0334 - accuracy: 0.9901 - val_loss: 0.0824 - val_accuracy: 0.9829\n",
      "Epoch 16/20\n",
      "1875/1875 [==============================] - 21s 11ms/step - loss: 0.0310 - accuracy: 0.9905 - val_loss: 0.0822 - val_accuracy: 0.9811\n",
      "Epoch 17/20\n",
      "1875/1875 [==============================] - 20s 11ms/step - loss: 0.0289 - accuracy: 0.9909 - val_loss: 0.0861 - val_accuracy: 0.9841\n",
      "Epoch 18/20\n",
      "1875/1875 [==============================] - 21s 11ms/step - loss: 0.0325 - accuracy: 0.9906 - val_loss: 0.0804 - val_accuracy: 0.9838\n",
      "Epoch 19/20\n",
      "1875/1875 [==============================] - 21s 11ms/step - loss: 0.0312 - accuracy: 0.9908 - val_loss: 0.0814 - val_accuracy: 0.9838\n",
      "Epoch 20/20\n",
      "1875/1875 [==============================] - 21s 11ms/step - loss: 0.0265 - accuracy: 0.9923 - val_loss: 0.0865 - val_accuracy: 0.9827\n",
      "313/313 [==============================] - 1s 4ms/step - loss: 0.0865 - accuracy: 0.9827\n",
      "\n",
      "Test loss: 0.08651380985975266\n",
      "Test accuracy: 0.982699990272522\n"
     ]
    }
   ],
   "source": [
    "batch_size = 32\n",
    "epochs = 20\n",
    "n_categories=10\n",
    "# create the deep conv net\n",
    "model_CNN_2=create_CNN_2(n_categories)\n",
    "\n",
    "# train CNN\n",
    "history_2=model_CNN_2.fit(X_train, Y_train,\n",
    "          batch_size=batch_size,\n",
    "          epochs=epochs,\n",
    "          verbose=1,\n",
    "          validation_data=(X_test, Y_test))\n",
    "\n",
    "# evaliate model\n",
    "score = model_CNN_2.evaluate(X_test, Y_test, verbose=1)\n",
    "\n",
    "# print performance\n",
    "print()\n",
    "print('Test loss:', score[0])\n",
    "print('Test accuracy:', score[1])"
   ]
  },
  {
   "cell_type": "code",
   "execution_count": 92,
   "metadata": {},
   "outputs": [
    {
     "data": {
      "text/plain": [
       "<matplotlib.legend.Legend at 0x7fb12ebc7fd0>"
      ]
     },
     "execution_count": 92,
     "metadata": {},
     "output_type": "execute_result"
    },
    {
     "data": {
      "image/png": "[encoded data removed]",
      "text/plain": [
       "<Figure size 1440x432 with 2 Axes>"
      ]
     },
     "metadata": {
      "needs_background": "light"
     },
     "output_type": "display_data"
    }
   ],
   "source": [
    "fig,ax = plt.subplots(1,2, figsize=(20, 6))\n",
    "ax[0].plot(history_2.history['accuracy'],label=\"Accuracy\")\n",
    "ax[0].plot(history_2.history['val_accuracy'],label=\"Validation Accuracy\")\n",
    "ax[0].set_title(\"Accuracy\")\n",
    "ax[0].legend()\n",
    "\n",
    "\n",
    "ax[1].plot(history_2.history['loss'],label=\"Losss\")\n",
    "ax[1].plot(history_2.history['val_loss'],label=\"Validation loss\")\n",
    "ax[1].set_title(\"Loss\")\n",
    "ax[1].legend()"
   ]
  },
  {
   "cell_type": "markdown",
   "metadata": {},
   "source": [
    "Ora provo a testare la rete sui i numeri scritti da me a mano\n"
   ]
  },
  {
   "cell_type": "code",
   "execution_count": 126,
   "metadata": {},
   "outputs": [
    {
     "name": "stdout",
     "output_type": "stream",
     "text": [
      "(28, 28)\n",
      "(1, 28, 28, 1)\n"
     ]
    },
    {
     "data": {
      "image/png": "[encoded data removed]",
      "text/plain": [
       "<Figure size 360x360 with 1 Axes>"
      ]
     },
     "metadata": {
      "needs_background": "light"
     },
     "output_type": "display_data"
    },
    {
     "data": {
      "text/plain": [
       "array([[2.5445479e-05, 9.9333256e-01, 2.6496635e-05, 3.3539714e-04,\n",
       "        1.4745798e-03, 1.2972089e-04, 2.1470780e-04, 1.9841562e-03,\n",
       "        1.4501638e-04, 2.3319416e-03]], dtype=float32)"
      ]
     },
     "execution_count": 126,
     "metadata": {},
     "output_type": "execute_result"
    }
   ],
   "source": [
    "from PIL import Image\n",
    "import os\n",
    "\n",
    "digit_filename = \"Numeri_ACL/9A.png\"\n",
    "digit_in = Image.open(digit_filename).convert('L')\n",
    "digit_in = np.asarray(digit_in)\n",
    "print(digit_in.shape)\n",
    "\n",
    "digit_in = digit_in.reshape(1,len(digit_in[:,0]), len(digit_in[:,1]) , 1)\n",
    "print(digit_in.shape)\n",
    "pred_0 = model_CNN_2.predict(digit_in)\n",
    "\n",
    "\n",
    "plt.figure(figsize=(5, 5))  \n",
    "plt.imshow(digit_in[0, :, :, 0], cmap='gray')   \n",
    "plt.title(\"Digit predicted:    {}\".format(np.argmax(pred_0)))\n",
    "plt.axis('off') \n",
    "plt.show()\n",
    "pred_0"
   ]
  },
  {
   "cell_type": "markdown",
   "metadata": {},
   "source": [
    "La mia rete neurale dopo un training di 20 epoche riesce a riconoscere correttamente 8 numeri su 10. I due che non è riuscita a riconoscere sono il numero 7 ed il numero 9."
   ]
  },
  {
   "cell_type": "code",
   "execution_count": 140,
   "metadata": {},
   "outputs": [],
   "source": [
    "from tensorflow.keras.preprocessing import image\n",
    "img=[]\n",
    "for i in range(10):\n",
    "    img.append(image.load_img(\"Numeri_ACL/\"+str(i)+\"A.png\", target_size=(28, 28),color_mode=\"grayscale\"))"
   ]
  },
  {
   "cell_type": "code",
   "execution_count": 150,
   "metadata": {},
   "outputs": [
    {
     "name": "stdout",
     "output_type": "stream",
     "text": [
      "(10, 28, 28, 1)\n"
     ]
    }
   ],
   "source": [
    "im_nn=[]\n",
    "for i in inverted_img:\n",
    "    im_nn.append( image.img_to_array(i))\n",
    "\n",
    "im_nn=np.array(im_nn)\n",
    "print(im_nn.shape)"
   ]
  },
  {
   "cell_type": "code",
   "execution_count": 151,
   "metadata": {},
   "outputs": [],
   "source": [
    "prediction_inverted=model_CNN_2.predict(im_nn)"
   ]
  },
  {
   "cell_type": "code",
   "execution_count": 154,
   "metadata": {},
   "outputs": [
    {
     "data": {
      "text/plain": [
       "<Figure size 1080x1080 with 0 Axes>"
      ]
     },
     "metadata": {},
     "output_type": "display_data"
    }
   ],
   "source": [
    "plt.figure(figsize=(15,15))\n",
    "for i in range(len(img_nn)):\n",
    "    ax = plt.subplot(2, 10, i + 1)  \n",
    "    plt.imshow(im_nn[i, :, :, 0], cmap='gray')    \n",
    "    plt.title(\"Predicted: {}\".format(np.argmax(prediction[i])))\n",
    "    plt.axis('off') \n",
    "plt.show()"
   ]
  },
  {
   "cell_type": "code",
   "execution_count": 156,
   "metadata": {},
   "outputs": [
    {
     "data": {
      "text/plain": [
       "<matplotlib.image.AxesImage at 0x7fb1736467c0>"
      ]
     },
     "execution_count": 156,
     "metadata": {},
     "output_type": "execute_result"
    },
    {
     "data": {
      "image/png": "[encoded data removed]",
      "text/plain": [
       "<Figure size 432x288 with 1 Axes>"
      ]
     },
     "metadata": {
      "needs_background": "light"
     },
     "output_type": "display_data"
    }
   ],
   "source": [
    "plt.imshow(im_nn[0, :, :, 0], cmap='gray') "
   ]
  },
  {
   "cell_type": "code",
   "execution_count": null,
   "metadata": {},
   "outputs": [],
   "source": []
  }
 ],
 "metadata": {
  "kernelspec": {
   "display_name": "Python 3",
   "language": "python",
   "name": "python3"
  },
  "language_info": {
   "codemirror_mode": {
    "name": "ipython",
    "version": 3
   },
   "file_extension": ".py",
   "mimetype": "text/x-python",
   "name": "python",
   "nbconvert_exporter": "python",
   "pygments_lexer": "ipython3",
   "version": "3.8.2"
  }
 },
 "nbformat": 4,
 "nbformat_minor": 4
}
